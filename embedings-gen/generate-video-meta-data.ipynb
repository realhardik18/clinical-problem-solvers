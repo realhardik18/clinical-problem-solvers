{
 "cells": [
  {
   "cell_type": "code",
   "execution_count": 1,
   "id": "cba519bd",
   "metadata": {},
   "outputs": [
    {
     "name": "stdout",
     "output_type": "stream",
     "text": [
      "Data has been successfully extracted and saved to video-data.json\n"
     ]
    }
   ],
   "source": [
    "import json\n",
    "\n",
    "# Load the data\n",
    "with open('backup3.json','r') as file:\n",
    "    data = json.load(file)\n",
    "\n",
    "# Create a dictionary to store video data\n",
    "video_data = {}\n",
    "\n",
    "# Extract required fields for each entry\n",
    "for entry in data:\n",
    "    metadata = entry['metadata']\n",
    "    video_url = metadata['video_url']\n",
    "    \n",
    "    video_data[video_url] = {\n",
    "        'title': metadata['title'],\n",
    "        'upload_date': metadata['upload_date'],\n",
    "        'view_count': metadata['view_count'],\n",
    "        'like_count': metadata['like_count'],\n",
    "        'tags': metadata['tags'],\n",
    "        'description': metadata['description'],\n",
    "        'thumbnail': metadata['thumbnail'],\n",
    "        'title_extracted_entities': entry['title_extracted_entities']\n",
    "    }\n",
    "\n",
    "# Save to new JSON file\n",
    "with open('video-data.json', 'w') as outfile:\n",
    "    json.dump(video_data, outfile, indent=4)\n",
    "\n",
    "print(\"Data has been successfully extracted and saved to video-data.json\")"
   ]
  },
  {
   "cell_type": "code",
   "execution_count": null,
   "id": "064787aa",
   "metadata": {},
   "outputs": [
    {
     "name": "stdout",
     "output_type": "stream",
     "text": [
      "Chunk details have been successfully extracted and saved to chunk-details.json\n"
     ]
    }
   ],
   "source": [
    "# Load the same data file\n",
    "with open('backup3.json', 'r') as file:\n",
    "    data = json.load(file)\n",
    "\n",
    "# Create a dictionary to store chunk details\n",
    "chunk_data = {}\n",
    "\n",
    "# Extract transcript entities for each chunk\n",
    "print(len(data))\n",
    "for entry in data:    \n",
    "    chunk_index = entry['chunk_index']    \n",
    "    chunk_data[chunk_index] = entry['transcript_extracted_entities']\n",
    "\n",
    "# Save to new JSON file\n",
    "with open('chunk-details.json', 'w') as outfile:\n",
    "    json.dump(chunk_data, outfile, indent=4)\n",
    "\n",
    "print(\"Chunk details have been successfully extracted and saved to chunk-details.json\")"
   ]
  }
 ],
 "metadata": {
  "kernelspec": {
   "display_name": "base",
   "language": "python",
   "name": "python3"
  },
  "language_info": {
   "codemirror_mode": {
    "name": "ipython",
    "version": 3
   },
   "file_extension": ".py",
   "mimetype": "text/x-python",
   "name": "python",
   "nbconvert_exporter": "python",
   "pygments_lexer": "ipython3",
   "version": "3.12.7"
  }
 },
 "nbformat": 4,
 "nbformat_minor": 5
}
