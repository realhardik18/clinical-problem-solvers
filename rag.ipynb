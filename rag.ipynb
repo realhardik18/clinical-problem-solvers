{
 "cells": [
  {
   "cell_type": "code",
   "execution_count": 6,
   "id": "b96d6c36",
   "metadata": {},
   "outputs": [
    {
     "ename": "ModuleNotFoundError",
     "evalue": "No module named 'scispacy'",
     "output_type": "error",
     "traceback": [
      "\u001b[1;31m---------------------------------------------------------------------------\u001b[0m",
      "\u001b[1;31mModuleNotFoundError\u001b[0m                       Traceback (most recent call last)",
      "Cell \u001b[1;32mIn[6], line 2\u001b[0m\n\u001b[0;32m      1\u001b[0m \u001b[38;5;28;01mimport\u001b[39;00m\u001b[38;5;250m \u001b[39m\u001b[38;5;21;01mspacy\u001b[39;00m\n\u001b[1;32m----> 2\u001b[0m \u001b[38;5;28;01mimport\u001b[39;00m\u001b[38;5;250m \u001b[39m\u001b[38;5;21;01mscispacy\u001b[39;00m\n\u001b[0;32m      3\u001b[0m \u001b[38;5;28;01mfrom\u001b[39;00m\u001b[38;5;250m \u001b[39m\u001b[38;5;21;01mscispacy\u001b[39;00m\u001b[38;5;21;01m.\u001b[39;00m\u001b[38;5;21;01mlinking\u001b[39;00m\u001b[38;5;250m \u001b[39m\u001b[38;5;28;01mimport\u001b[39;00m EntityLinker\n\u001b[0;32m      5\u001b[0m nlp \u001b[38;5;241m=\u001b[39m spacy\u001b[38;5;241m.\u001b[39mload(\u001b[38;5;124m\"\u001b[39m\u001b[38;5;124men_core_sci_md\u001b[39m\u001b[38;5;124m\"\u001b[39m)\n",
      "\u001b[1;31mModuleNotFoundError\u001b[0m: No module named 'scispacy'"
     ]
    }
   ],
   "source": [
    "import spacy\n",
    "import scispacy\n",
    "from scispacy.linking import EntityLinker\n",
    " \n",
    "nlp = spacy.load(\"en_core_sci_md\")\n",
    "nlp.add_pipe(\"scispacy_linker\", config={\"resolve_abbreviations\": True, \"linker_name\": \"umls\"})\n",
    "def extract_tagged_entities(text):\n",
    "    doc = nlp(text)\n",
    "    results = []\n",
    "    for ent in doc.ents:\n",
    "        for umls_ent in ent._.kb_ents[:1]:  # Top UMLS match\n",
    "            concept = nlp.get_pipe(\"scispacy_linker\").kb.cui_to_entity[umls_ent[0]]\n",
    "            results.append({\n",
    "                \"text\": ent.text,\n",
    "                \"umls_cui\": umls_ent[0],\n",
    "                \"semantic_type\": concept.types[0]  # Example: ['T184']\n",
    "            })\n",
    "    return results"
   ]
  },
  {
   "cell_type": "code",
   "execution_count": null,
   "id": "f07d5122",
   "metadata": {},
   "outputs": [
    {
     "name": "stdout",
     "output_type": "stream",
     "text": [
      "{'text': \" Lovely people, happy Friday. Um, for those of you on t YouTube, you're welcome. I saved you five minutes of your life by not recording our uh our hangout behind the scenes, but welcome nonetheless. U very excited for today. Today, as you all know, is um for those of you who are joining live, you know that Profess shoes are being filled by somebody else, but I think they probably feel a little bit tight on our one and only Elellanena, who needs no introduction. I get to co-discuss with her today. She's now in the in the height of intern year. And guess what she decided to do with her time off? Discuss medicine. Uh just like any uh uh anyone who would symbolize Professor was discussing a case in the middle of his golf sessions because he could not say no to a grand rounds case as some of you know. And so I think Ellen is filling in that tradition very very well. Let me hand the mic to you. I'm gonna say hello and then we can introduce everybody else. Hi Robbie. Hi everyone. It's uh good to see you all. Um I I never I think I\", 'start_time': 1.76, 'duration': 122.07799999999999, 'word_count': 203, 'chunk_index': 0, 'metadata': {'title': 'June 6, 2025 VMR with Rabih & Elena - sudden onset chest pain and SOB', 'upload_date': '20250606', 'duration': 3942, 'view_count': 449, 'like_count': 11, 'tags': [], 'description': 'VMR  Schedule Survey: https://docs.google.com/forms/d/e/1FAIpQLSeeOMvBA_Aqw3tXwINPXRqirO2j51Lvo7R9_u2jJKzavs_WBA/viewform \\n\\nDo you want to get access to even more VMRs? \\nPlease go to our website: https://clinicalproblemsolving.com/learn-live/\\n\\nJoin this channel to get access to perks:\\nhttps://www.youtube.com/channel/UC8gFr9CU4Bgh0L3v0XQtuwA/joinn', 'thumbnail': 'https://i.ytimg.com/vi/0Oey84VAJVE/maxresdefault.jpg'}}\n"
     ]
    }
   ],
   "source": [
    "import os\n",
    "import json\n",
    "\n",
    "files = os.listdir('data')\n",
    "for file in files[:1]:\n",
    "    with open(f'data/{file}') as f:\n",
    "        data = json.load(f)\n",
    "        chunks = []\n",
    "        count = 0\n",
    "\n",
    "        while count < len(data['transcript_data']):\n",
    "            obj = {\n",
    "                \"text\": '',\n",
    "                \"start_time\": data[\"transcript_data\"][count]['start'],\n",
    "                \"duration\": 0,\n",
    "                \"word_count\": 0,\n",
    "                \"chunk_index\": len(chunks),\n",
    "                \"metadata\": data['metadata']\n",
    "            }\n",
    "\n",
    "            curr_words = 0 \n",
    "\n",
    "            while curr_words < 200 and count < len(data['transcript_data']):\n",
    "                segment = data['transcript_data'][count]\n",
    "                text = segment['text'].strip()\n",
    "                words = len(text.split())\n",
    "\n",
    "                if text:\n",
    "                    obj['text'] += ' ' + text\n",
    "                    obj['duration'] += segment['duration']\n",
    "                    curr_words += words\n",
    "\n",
    "                count += 1 \n",
    "\n",
    "            obj['word_count'] = len(obj['text'].split())\n",
    "            chunks.append(obj)\n",
    "            #print('Added chunk:', len(chunks))\n",
    "print(chunks[0])"
   ]
  },
  {
   "cell_type": "code",
   "execution_count": null,
   "id": "114baf68",
   "metadata": {},
   "outputs": [],
   "source": []
  }
 ],
 "metadata": {
  "kernelspec": {
   "display_name": "clinical-solvers",
   "language": "python",
   "name": "python3"
  },
  "language_info": {
   "codemirror_mode": {
    "name": "ipython",
    "version": 3
   },
   "file_extension": ".py",
   "mimetype": "text/x-python",
   "name": "python",
   "nbconvert_exporter": "python",
   "pygments_lexer": "ipython3",
   "version": "3.10.18"
  }
 },
 "nbformat": 4,
 "nbformat_minor": 5
}
